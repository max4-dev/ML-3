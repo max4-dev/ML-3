{
  "nbformat": 4,
  "nbformat_minor": 0,
  "metadata": {
    "colab": {
      "provenance": []
    },
    "kernelspec": {
      "name": "python3",
      "display_name": "Python 3"
    },
    "language_info": {
      "name": "python"
    }
  },
  "cells": [
    {
      "cell_type": "code",
      "source": [
        "# Импортирование необходимых библиотек\n",
        "import pandas as pd\n",
        "import numpy as np\n",
        "import joblib\n",
        "from sklearn.metrics import mean_absolute_error\n",
        "\n",
        "# Загрузка модели\n",
        "model = joblib.load('model.pkl')\n",
        "\n",
        "# Загрузка данных\n",
        "train_df = pd.read_excel('train.xlsx')\n",
        "test_df = pd.read_excel('test.xlsx')\n",
        "\n",
        "# Преобразование дат в datetime формат\n",
        "train_df['dt'] = pd.to_datetime(train_df['dt'])\n",
        "test_df['dt'] = pd.to_datetime(test_df['dt'])\n",
        "\n",
        "# Создание дополнительных признаков на основе истории (лаги, скользящие средние)\n",
        "num_lags = 5\n",
        "\n",
        "# Для тренировки данных\n",
        "train_df['diff_1'] = train_df['Цена на арматуру'].diff()\n",
        "for lag in range(1, num_lags + 1):\n",
        "    train_df[f'lag_{lag}'] = train_df['Цена на арматуру'].shift(lag)\n",
        "train_df['rolling_mean_4'] = train_df['Цена на арматуру'].rolling(window=4).mean()\n",
        "train_df['rolling_mean_8'] = train_df['Цена на арматуру'].rolling(window=8).mean()\n",
        "train_df['year'] = train_df['dt'].dt.year\n",
        "train_df['month'] = train_df['dt'].dt.month\n",
        "train_df['week'] = train_df['dt'].dt.isocalendar().week\n",
        "\n",
        "# Убираем пропущенные значения\n",
        "train_df = train_df.dropna()\n",
        "\n",
        "# Разделение на признаки (X) и целевую переменную (y)\n",
        "X_train = train_df.drop(columns=['dt', 'Цена на арматуру'])\n",
        "y_train = train_df['Цена на арматуру']\n",
        "\n",
        "# Оценка модели на обучающих данных\n",
        "y_train_pred = model.predict(X_train)\n",
        "mae = mean_absolute_error(y_train, y_train_pred)\n",
        "print(f'Mean Absolute Error on training data: {mae}')\n",
        "\n",
        "# Подготовка к прогнозированию на 52 недели\n",
        "last_train_date = train_df['dt'].iloc[-1]\n",
        "future_dates = pd.date_range(start=last_train_date + pd.Timedelta(weeks=1), periods=52, freq='W-MON')\n",
        "\n",
        "history = train_df.set_index('dt')['Цена на арматуру'].copy()\n",
        "forecast_df = pd.DataFrame(index=future_dates, columns=['Forecast'])\n",
        "\n",
        "# Прогноз на 52 недели вперед\n",
        "for date in forecast_df.index:\n",
        "    lags = []\n",
        "    for lag in range(1, num_lags + 1):\n",
        "        if len(history) >= lag:\n",
        "            lags.append(history.iloc[-lag])\n",
        "        else:\n",
        "            lags.append(np.nan)\n",
        "\n",
        "    diff_1 = history.diff().iloc[-1] if len(history) >= 2 else np.nan\n",
        "    rolling_4 = history.rolling(4).mean().iloc[-1] if len(history) >= 4 else np.nan\n",
        "    rolling_8 = history.rolling(8).mean().iloc[-1] if len(history) >= 8 else np.nan\n",
        "\n",
        "    features = pd.DataFrame({\n",
        "        'diff_1': [diff_1],\n",
        "        'lag_1': [lags[0]],\n",
        "        'lag_2': [lags[1]],\n",
        "        'lag_3': [lags[2]],\n",
        "        'lag_4': [lags[3]],\n",
        "        'lag_5': [lags[4]],\n",
        "        'rolling_mean_4': [rolling_4],\n",
        "        'rolling_mean_8': [rolling_8],\n",
        "        'year': [date.year],\n",
        "        'month': [date.month],\n",
        "        'week': [date.isocalendar().week]\n",
        "    })\n",
        "\n",
        "    features = features.reindex(columns=X_train.columns)\n",
        "\n",
        "    forecast = model.predict(features)[0]  # Прогноз на следующую неделю\n",
        "    forecast_df.loc[date, 'Forecast'] = forecast\n",
        "    history.loc[date] = forecast  # Обновляем history для следующего предсказания\n",
        "\n",
        "# Сохранение результатов прогноза в Excel\n",
        "forecast_df = forecast_df.reset_index().rename(columns={'index': 'dt'})\n",
        "output_df = pd.concat([train_df[['dt', 'Цена на арматуру']], forecast_df], ignore_index=True)\n",
        "output_df.to_excel('test_with_forecast.xlsx', index=False)\n",
        "\n",
        "print(\"Прогноз на 52 недели успешно добавлен в test_with_forecast.xlsx.\")"
      ],
      "metadata": {
        "colab": {
          "base_uri": "https://localhost:8080/"
        },
        "id": "YPjym-8d-KDh",
        "outputId": "09754a9b-29f9-421a-cc8b-1be02d21b539"
      },
      "execution_count": 49,
      "outputs": [
        {
          "output_type": "stream",
          "name": "stdout",
          "text": [
            "Mean Absolute Error on training data: 108.14092254638672\n",
            "Прогноз на 52 недели успешно добавлен в test_with_forecast.xlsx.\n"
          ]
        }
      ]
    }
  ]
}