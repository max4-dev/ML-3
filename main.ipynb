{
  "cells": [
    {
      "cell_type": "code",
      "execution_count": null,
      "metadata": {
        "colab": {
          "base_uri": "https://localhost:8080/"
        },
        "id": "YPjym-8d-KDh",
        "outputId": "09754a9b-29f9-421a-cc8b-1be02d21b539"
      },
      "outputs": [
        {
          "name": "stdout",
          "output_type": "stream",
          "text": [
            "Mean Absolute Error on training data: 108.14092254638672\n",
            "Прогноз на 52 недели успешно добавлен в test_with_forecast.xlsx.\n"
          ]
        }
      ],
      "source": [
        "import streamlit as st\n",
        "import pandas as pd\n",
        "import matplotlib.pyplot as plt\n",
        "import matplotlib.dates as mdates\n",
        "from datetime import datetime\n",
        "\n",
        "# Загрузка данных\n",
        "test_with_forecast_df = pd.read_excel('test_with_forecast.xlsx')\n",
        "\n",
        "# Преобразование дат в datetime формат\n",
        "test_with_forecast_df['dt'] = pd.to_datetime(test_with_forecast_df['dt'])\n",
        "\n",
        "# Определение даты начала прогноза\n",
        "start_forecast_date = test_with_forecast_df[test_with_forecast_df['Цена на арматуру'].notna()]['dt'].max() + pd.Timedelta(days=1)\n",
        "# Отображение даты начала прогноза\n",
        "\n",
        "# Интерфейс Streamlit\n",
        "st.title(\"Прогнозирование цены на арматуру\")\n",
        "\n",
        "# Запрос количества недель для прогноза\n",
        "weeks_ahead = st.slider(\"Выберите количество недель для прогноза (до 52 недель) начиная с:\", 1, 52, 52)\n",
        "\n",
        "# Кнопка для отображения графика\n",
        "if st.button(\"Показать график прогноза\"):\n",
        "    # Определение последней исторической даты\n",
        "    last_historical_date = test_with_forecast_df[test_with_forecast_df['Цена на арматуру'].notna()]['dt'].max()\n",
        "\n",
        "    # Разделение данных\n",
        "    train_df = test_with_forecast_df[test_with_forecast_df['dt'] <= last_historical_date]\n",
        "    forecast_df = test_with_forecast_df[\n",
        "        (test_with_forecast_df['dt'] > last_historical_date) & \n",
        "        (test_with_forecast_df['dt'] <= last_historical_date + pd.Timedelta(weeks=weeks_ahead))\n",
        "    ]\n",
        "\n",
        "    # График прогноза по дням\n",
        "    st.subheader(\"Детальный прогноз по дням\")\n",
        "    fig, ax = plt.subplots(figsize=(16, 8))\n",
        "    \n",
        "    # Убедимся, что данные отсортированы по дате\n",
        "    daily_forecast = forecast_df.sort_values('dt').copy()\n",
        "    \n",
        "    # Рисуем график\n",
        "    ax.plot(daily_forecast['dt'], daily_forecast['Forecast'], 'purple', marker='o', linestyle='-', linewidth=2, label='Прогноз')\n",
        "    \n",
        "    # Настройка формата оси X (день.месяц)\n",
        "    ax.xaxis.set_major_formatter(mdates.DateFormatter('%d.%m'))\n",
        "    ax.xaxis.set_major_locator(mdates.DayLocator(interval=1))  # Отображение всех дней\n",
        "    \n",
        "    ax.set_title('Прогноз по дням', fontsize=18)\n",
        "    ax.set_xlabel('День.Месяц', fontsize=14)\n",
        "    ax.set_ylabel('Цена, руб.', fontsize=14)\n",
        "    ax.legend(fontsize=12)\n",
        "    ax.grid(True, which='both', linestyle='--', alpha=0.5)\n",
        "    \n",
        "    plt.xticks(rotation=45, ha='right')\n",
        "    plt.tight_layout()\n",
        "    st.pyplot(fig)\n"
      ]
    }
  ],
  "metadata": {
    "colab": {
      "provenance": []
    },
    "kernelspec": {
      "display_name": "Python 3",
      "name": "python3"
    },
    "language_info": {
      "name": "python"
    }
  },
  "nbformat": 4,
  "nbformat_minor": 0
}
